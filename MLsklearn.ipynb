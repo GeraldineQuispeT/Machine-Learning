{
  "cells": [
    {
      "cell_type": "markdown",
      "metadata": {
        "id": "view-in-github",
        "colab_type": "text"
      },
      "source": [
        "<a href=\"https://colab.research.google.com/github/GeraldineQuispeT/Machine-Learning/blob/main/MLsklearn.ipynb\" target=\"_parent\"><img src=\"https://colab.research.google.com/assets/colab-badge.svg\" alt=\"Open In Colab\"/></a>"
      ]
    },
    {
      "cell_type": "code",
      "execution_count": 1,
      "id": "6cf2d0b7",
      "metadata": {
        "id": "6cf2d0b7"
      },
      "outputs": [],
      "source": [
        "import os\n",
        "import numpy as np\n",
        "import matplotlib.pyplot as plt\n",
        "import scipy.io.wavfile as wav\n",
        "import random\n",
        "import seaborn as sns\n",
        "import pandas as pd\n",
        "import librosa\n",
        "\n",
        "from sklearn.model_selection import train_test_split, StratifiedKFold, GridSearchCV\n",
        "from sklearn.preprocessing import StandardScaler\n",
        "from sklearn.metrics import precision_score, recall_score, f1_score, confusion_matrix, accuracy_score\n",
        "from sklearn.linear_model import LogisticRegression\n",
        "from sklearn.svm import SVC\n",
        "from sklearn.tree import DecisionTreeClassifier\n",
        "from sklearn.neighbors import KNeighborsClassifier"
      ]
    },
    {
      "cell_type": "code",
      "execution_count": 2,
      "id": "95bc1ee4",
      "metadata": {
        "colab": {
          "base_uri": "https://localhost:8080/",
          "height": 347
        },
        "id": "95bc1ee4",
        "outputId": "94e2d5be-d5e3-48df-d3dd-1f6c08c6bd9d"
      },
      "outputs": [
        {
          "output_type": "error",
          "ename": "FileNotFoundError",
          "evalue": "[Errno 2] No such file or directory: 'cleaned_data/Negative'",
          "traceback": [
            "\u001b[0;31m---------------------------------------------------------------------------\u001b[0m",
            "\u001b[0;31mFileNotFoundError\u001b[0m                         Traceback (most recent call last)",
            "\u001b[0;32m/tmp/ipython-input-2-3765301563.py\u001b[0m in \u001b[0;36m<cell line: 0>\u001b[0;34m()\u001b[0m\n\u001b[1;32m     52\u001b[0m \u001b[0munknown_path\u001b[0m  \u001b[0;34m=\u001b[0m \u001b[0;34m'cleaned_data/Unknown'\u001b[0m\u001b[0;34m\u001b[0m\u001b[0;34m\u001b[0m\u001b[0m\n\u001b[1;32m     53\u001b[0m \u001b[0;34m\u001b[0m\u001b[0m\n\u001b[0;32m---> 54\u001b[0;31m \u001b[0mdata_negative\u001b[0m \u001b[0;34m=\u001b[0m \u001b[0mload_audio_data\u001b[0m\u001b[0;34m(\u001b[0m\u001b[0mnegative_path\u001b[0m\u001b[0;34m,\u001b[0m \u001b[0;36m0\u001b[0m\u001b[0;34m)\u001b[0m\u001b[0;34m\u001b[0m\u001b[0;34m\u001b[0m\u001b[0m\n\u001b[0m\u001b[1;32m     55\u001b[0m \u001b[0mdata_positive\u001b[0m \u001b[0;34m=\u001b[0m \u001b[0mload_audio_data\u001b[0m\u001b[0;34m(\u001b[0m\u001b[0mpositive_path\u001b[0m\u001b[0;34m,\u001b[0m \u001b[0;36m1\u001b[0m\u001b[0;34m)\u001b[0m\u001b[0;34m\u001b[0m\u001b[0;34m\u001b[0m\u001b[0m\n\u001b[1;32m     56\u001b[0m \u001b[0mdata\u001b[0m \u001b[0;34m=\u001b[0m \u001b[0mdata_negative\u001b[0m \u001b[0;34m+\u001b[0m \u001b[0mdata_positive\u001b[0m\u001b[0;34m\u001b[0m\u001b[0;34m\u001b[0m\u001b[0m\n",
            "\u001b[0;32m/tmp/ipython-input-2-3765301563.py\u001b[0m in \u001b[0;36mload_audio_data\u001b[0;34m(folder_path, label)\u001b[0m\n\u001b[1;32m      2\u001b[0m \u001b[0;32mdef\u001b[0m \u001b[0mload_audio_data\u001b[0m\u001b[0;34m(\u001b[0m\u001b[0mfolder_path\u001b[0m\u001b[0;34m,\u001b[0m \u001b[0mlabel\u001b[0m\u001b[0;34m)\u001b[0m\u001b[0;34m:\u001b[0m\u001b[0;34m\u001b[0m\u001b[0;34m\u001b[0m\u001b[0m\n\u001b[1;32m      3\u001b[0m     \u001b[0mfeatures\u001b[0m \u001b[0;34m=\u001b[0m \u001b[0;34m[\u001b[0m\u001b[0;34m]\u001b[0m\u001b[0;34m\u001b[0m\u001b[0;34m\u001b[0m\u001b[0m\n\u001b[0;32m----> 4\u001b[0;31m     \u001b[0;32mfor\u001b[0m \u001b[0mfilename\u001b[0m \u001b[0;32min\u001b[0m \u001b[0mos\u001b[0m\u001b[0;34m.\u001b[0m\u001b[0mlistdir\u001b[0m\u001b[0;34m(\u001b[0m\u001b[0mfolder_path\u001b[0m\u001b[0;34m)\u001b[0m\u001b[0;34m:\u001b[0m\u001b[0;34m\u001b[0m\u001b[0;34m\u001b[0m\u001b[0m\n\u001b[0m\u001b[1;32m      5\u001b[0m         \u001b[0;32mif\u001b[0m \u001b[0mfilename\u001b[0m\u001b[0;34m.\u001b[0m\u001b[0mendswith\u001b[0m\u001b[0;34m(\u001b[0m\u001b[0;34m\".wav\"\u001b[0m\u001b[0;34m)\u001b[0m\u001b[0;34m:\u001b[0m\u001b[0;34m\u001b[0m\u001b[0;34m\u001b[0m\u001b[0m\n\u001b[1;32m      6\u001b[0m             \u001b[0mfilepath\u001b[0m \u001b[0;34m=\u001b[0m \u001b[0mos\u001b[0m\u001b[0;34m.\u001b[0m\u001b[0mpath\u001b[0m\u001b[0;34m.\u001b[0m\u001b[0mjoin\u001b[0m\u001b[0;34m(\u001b[0m\u001b[0mfolder_path\u001b[0m\u001b[0;34m,\u001b[0m \u001b[0mfilename\u001b[0m\u001b[0;34m)\u001b[0m\u001b[0;34m\u001b[0m\u001b[0;34m\u001b[0m\u001b[0m\n",
            "\u001b[0;31mFileNotFoundError\u001b[0m: [Errno 2] No such file or directory: 'cleaned_data/Negative'"
          ]
        }
      ],
      "source": [
        "# 1. Data loading and feature extraction\n",
        "def load_audio_data(folder_path, label):\n",
        "    features = []\n",
        "    for filename in os.listdir(folder_path):\n",
        "        if filename.endswith(\".wav\"):\n",
        "            filepath = os.path.join(folder_path, filename)\n",
        "            try:\n",
        "                y, sr = librosa.load(filepath, sr=None) # Keeping original sampling rate\n",
        "\n",
        "                # Feature 1: Energy\n",
        "                energy = np.sum(y ** 2) / len(y)\n",
        "                # Feature 2: Duration\n",
        "                duration = len(y) / sr\n",
        "\n",
        "                # Feature 3: Mean MFCC\n",
        "\n",
        "                # Option A: Adjust n_mels (most common and effective fix)\n",
        "                # If you have very low sample rates, you might need to go even lower for n_mels.\n",
        "                n_mels_value = 80 # A good starting point, try 128 if this doesn't fully resolve\n",
        "                mfccs = librosa.feature.mfcc(y=y, sr=sr, n_mfcc=13, n_mels=n_mels_value)\n",
        "\n",
        "                # Option B: Adjust fmax if you know your audio has no significant content\n",
        "                #           above a certain frequency, AND you've also reduced n_mels\n",
        "                #           accordingly. Be careful with this.\n",
        "                # mfccs = librosa.feature.mfcc(y=y, sr=sr, n_mfcc=13, n_mels=80, fmax=8000)\n",
        "\n",
        "                mfccs_mean = np.mean(mfccs, axis=1)\n",
        "\n",
        "                # Feature 4: Spectral centroid\n",
        "                spec_centroid = np.mean(librosa.feature.spectral_centroid(y=y, sr=sr))\n",
        "                # Feature 5: Zero-crossing rate\n",
        "                zcr = np.mean(librosa.feature.zero_crossing_rate(y))\n",
        "\n",
        "                # Combine features (you can add/remove as needed)\n",
        "                feature_vector = [energy, duration, spec_centroid, zcr] + list(mfccs_mean)\n",
        "\n",
        "                if label is not None:\n",
        "                    feature_vector.append(label)\n",
        "\n",
        "                features.append(feature_vector)\n",
        "\n",
        "            except Exception as e:\n",
        "                print(f\"Error processing {filepath}: {e}\")\n",
        "                # You might want to log this error or decide how to handle\n",
        "                # files that fail to process (e.g., skip them or append None).\n",
        "                continue # Skip to the next file\n",
        "\n",
        "    return features\n",
        "\n",
        "negative_path = 'cleaned_data/Negative'\n",
        "positive_path = 'cleaned_data/Positive'\n",
        "unknown_path  = 'cleaned_data/Unknown'\n",
        "\n",
        "data_negative = load_audio_data(negative_path, 0)\n",
        "data_positive = load_audio_data(positive_path, 1)\n",
        "data = data_negative + data_positive\n",
        "random.shuffle(data)\n",
        "\n",
        "print(\"Number of features per sample:\", len(data[0]))"
      ]
    },
    {
      "cell_type": "code",
      "source": [
        "from google.colab import drive\n",
        "drive.mount('/content/drive')"
      ],
      "metadata": {
        "id": "CH30ua9ps99w"
      },
      "id": "CH30ua9ps99w",
      "execution_count": null,
      "outputs": []
    },
    {
      "cell_type": "code",
      "source": [
        "# X: all features except the last element (label)\n",
        "X = np.array([d[:-1] for d in data])\n",
        "# y: the last element (label)\n",
        "y = np.array([d[-1] for d in data])\n",
        "\n",
        "scaler = StandardScaler()\n",
        "X = scaler.fit_transform(X)\n",
        "\n",
        "# 2. Train/test split\n",
        "X_train, X_test, y_train, y_test = train_test_split(X, y, test_size=0.2, stratify=y, random_state=42)"
      ],
      "metadata": {
        "id": "XRQrNMBTsqa_"
      },
      "id": "XRQrNMBTsqa_",
      "execution_count": null,
      "outputs": []
    },
    {
      "cell_type": "code",
      "execution_count": null,
      "id": "a974561f",
      "metadata": {
        "id": "a974561f",
        "outputId": "ba017d25-f369-4f2d-bd50-2cb071df5d22"
      },
      "outputs": [
        {
          "name": "stdout",
          "output_type": "stream",
          "text": [
            "(1047, 17) (1047,)\n"
          ]
        }
      ],
      "source": [
        "print(X_train.shape, y_train.shape)"
      ]
    },
    {
      "cell_type": "code",
      "execution_count": null,
      "id": "1cff542e",
      "metadata": {
        "id": "1cff542e",
        "outputId": "15e7f70e-8f5a-47b6-b998-30c376ddeb15"
      },
      "outputs": [
        {
          "name": "stdout",
          "output_type": "stream",
          "text": [
            "Logistic Regression best params: {'C': 0.0001, 'penalty': 'l2'}\n",
            "SVM best params: {'C': 100, 'gamma': 'scale', 'kernel': 'rbf'}\n",
            "Decision Tree best params: {'max_depth': 8, 'min_samples_leaf': 1, 'min_samples_split': 2}\n",
            "KNN best params: {'n_neighbors': 1, 'p': 2, 'weights': 'uniform'}\n"
          ]
        }
      ],
      "source": [
        "# 3. Define models and simplified hyperparameter grids\n",
        "models = {\n",
        "    \"Logistic Regression\": (\n",
        "        LogisticRegression(max_iter=2000, solver='liblinear'),\n",
        "        {\n",
        "            'C': [0.0001, 0.001, 0.01, 0.1],\n",
        "            'penalty': ['l1', 'l2']\n",
        "        }\n",
        "    ),\n",
        "    \"SVM\": (\n",
        "        SVC(),\n",
        "        {\n",
        "            'C': [0.01, 0.1, 1, 10,100],\n",
        "            'kernel': ['linear', 'rbf'],\n",
        "            'gamma': ['scale', 'auto']\n",
        "        }\n",
        "    ),\n",
        "    \"Decision Tree\": (\n",
        "        DecisionTreeClassifier(),\n",
        "        {\n",
        "            'max_depth': [i for i in range(1, 11)],\n",
        "            'min_samples_split': [2, 10],\n",
        "            'min_samples_leaf': [1, 4]\n",
        "        }\n",
        "    ),\n",
        "    \"KNN\": (\n",
        "        KNeighborsClassifier(),\n",
        "        {\n",
        "            'n_neighbors': [1,2,3, 5, 7],\n",
        "            'weights': ['uniform', 'distance'],\n",
        "            'p': [1, 2]\n",
        "        }\n",
        "    )\n",
        "}\n",
        "\n",
        "# 4. Grid search with cross-validation\n",
        "results = {}\n",
        "best_estimators = {}\n",
        "\n",
        "\n",
        "for name, (model, param_grid) in models.items():\n",
        "    grid = GridSearchCV(model, param_grid, cv=5, scoring='recall', n_jobs=-1)\n",
        "    grid.fit(X_train, y_train)\n",
        "    best_estimators[name] = grid.best_estimator_\n",
        "    y_pred = grid.predict(X_test)\n",
        "    results[name] = {\n",
        "        'precision': precision_score(y_test, y_pred, zero_division=0),\n",
        "        'recall': recall_score(y_test, y_pred, zero_division=0),\n",
        "        'f1': f1_score(y_test, y_pred, zero_division=0),\n",
        "        'confusion_matrix': confusion_matrix(y_test, y_pred),\n",
        "        'accuracy': accuracy_score(y_test, y_pred)\n",
        "    }\n",
        "    print(f\"{name} best params: {grid.best_params_}\")\n",
        "\n"
      ]
    },
    {
      "cell_type": "code",
      "execution_count": null,
      "id": "c795bde3",
      "metadata": {
        "id": "c795bde3",
        "outputId": "1f98bda7-3d42-4c37-ad2b-0596dedab192"
      },
      "outputs": [
        {
          "name": "stdout",
          "output_type": "stream",
          "text": [
            "=== K-Fold Cross-Validation Error Estimation ===\n",
            "Logistic Regression: Recall (mean ± std): 0.010 ± 0.020\n",
            "SVM: Recall (mean ± std): 0.293 ± 0.130\n",
            "Decision Tree: Recall (mean ± std): 0.216 ± 0.075\n",
            "KNN: Recall (mean ± std): 0.344 ± 0.090\n"
          ]
        }
      ],
      "source": [
        "from sklearn.model_selection import cross_val_score\n",
        "\n",
        "print(\"=== K-Fold Cross-Validation Error Estimation ===\")\n",
        "for name, model in best_estimators.items():\n",
        "    # Use recall as the main metric, change to 'f1' or others if needed\n",
        "    scores = cross_val_score(model, X, y, cv=5, scoring='recall')\n",
        "    print(f\"{name}: Recall (mean ± std): {np.mean(scores):.3f} ± {np.std(scores):.3f}\")"
      ]
    },
    {
      "cell_type": "code",
      "execution_count": null,
      "id": "52251dbe",
      "metadata": {
        "id": "52251dbe",
        "outputId": "c175e1e7-982f-4ead-8187-2fc82f09fe89"
      },
      "outputs": [
        {
          "name": "stdout",
          "output_type": "stream",
          "text": [
            "=== Bootstrap Error Estimation ===\n",
            "Logistic Regression: Recall (mean ± std): 0.027 ± 0.026\n",
            "SVM: Recall (mean ± std): 0.725 ± 0.042\n",
            "Decision Tree: Recall (mean ± std): 0.408 ± 0.061\n",
            "KNN: Recall (mean ± std): 0.740 ± 0.035\n"
          ]
        }
      ],
      "source": [
        "from sklearn.utils import resample\n",
        "\n",
        "print(\"=== Bootstrap Error Estimation ===\")\n",
        "n_bootstrap = 30\n",
        "for name, model in best_estimators.items():\n",
        "    recalls = []\n",
        "    for i in range(n_bootstrap):\n",
        "        X_bs, y_bs = resample(X, y, replace=True, random_state=42+i)\n",
        "        model.fit(X_bs, y_bs)\n",
        "        y_pred = model.predict(X)\n",
        "        recalls.append(recall_score(y, y_pred, zero_division=0))\n",
        "    print(f\"{name}: Recall (mean ± std): {np.mean(recalls):.3f} ± {np.std(recalls):.3f}\")"
      ]
    },
    {
      "cell_type": "code",
      "execution_count": null,
      "id": "f164c35a",
      "metadata": {
        "id": "f164c35a",
        "outputId": "29d8ade8-17bc-4a85-b621-3add891fd393"
      },
      "outputs": [
        {
          "data": {
            "text/html": [
              "<div>\n",
              "<style scoped>\n",
              "    .dataframe tbody tr th:only-of-type {\n",
              "        vertical-align: middle;\n",
              "    }\n",
              "\n",
              "    .dataframe tbody tr th {\n",
              "        vertical-align: top;\n",
              "    }\n",
              "\n",
              "    .dataframe thead th {\n",
              "        text-align: right;\n",
              "    }\n",
              "</style>\n",
              "<table border=\"1\" class=\"dataframe\">\n",
              "  <thead>\n",
              "    <tr style=\"text-align: right;\">\n",
              "      <th></th>\n",
              "      <th>Logistic Regression</th>\n",
              "      <th>SVM</th>\n",
              "      <th>Decision Tree</th>\n",
              "      <th>KNN</th>\n",
              "    </tr>\n",
              "  </thead>\n",
              "  <tbody>\n",
              "    <tr>\n",
              "      <th>Precision</th>\n",
              "      <td>0.0</td>\n",
              "      <td>0.454545</td>\n",
              "      <td>0.400000</td>\n",
              "      <td>0.333333</td>\n",
              "    </tr>\n",
              "    <tr>\n",
              "      <th>Recall</th>\n",
              "      <td>0.0</td>\n",
              "      <td>0.250000</td>\n",
              "      <td>0.200000</td>\n",
              "      <td>0.250000</td>\n",
              "    </tr>\n",
              "    <tr>\n",
              "      <th>F1-score</th>\n",
              "      <td>0.0</td>\n",
              "      <td>0.322581</td>\n",
              "      <td>0.266667</td>\n",
              "      <td>0.285714</td>\n",
              "    </tr>\n",
              "  </tbody>\n",
              "</table>\n",
              "</div>"
            ],
            "text/plain": [
              "           Logistic Regression       SVM  Decision Tree       KNN\n",
              "Precision                  0.0  0.454545       0.400000  0.333333\n",
              "Recall                     0.0  0.250000       0.200000  0.250000\n",
              "F1-score                   0.0  0.322581       0.266667  0.285714"
            ]
          },
          "metadata": {},
          "output_type": "display_data"
        },
        {
          "name": "stdout",
          "output_type": "stream",
          "text": [
            "\n",
            "=== RECALL SCORES (Main Focus) ===\n",
            "Logistic Regression: Recall = 0.000\n",
            "SVM: Recall = 0.250\n",
            "Decision Tree: Recall = 0.200\n",
            "KNN: Recall = 0.250\n"
          ]
        },
        {
          "data": {
            "image/png": "[encoded data removed]",
            "text/plain": [
              "<Figure size 1000x500 with 1 Axes>"
            ]
          },
          "metadata": {},
          "output_type": "display_data"
        }
      ],
      "source": [
        "# 5. Display results\n",
        "metrics_df = pd.DataFrame({\n",
        "    model: [results[model]['precision'], results[model]['recall'], results[model]['f1']]\n",
        "    for model in results\n",
        "}, index=['Precision', 'Recall', 'F1-score'])\n",
        "\n",
        "display(metrics_df)\n",
        "\n",
        "# Highlight recall in the printed output\n",
        "print(\"\\n=== RECALL SCORES (Main Focus) ===\")\n",
        "for model in results:\n",
        "    print(f\"{model}: Recall = {results[model]['recall']:.3f}\")\n",
        "\n",
        "# 6. Plot confusion matrices and highlight recall in the barplot\n",
        "import matplotlib.patches as mpatches\n",
        "\n",
        "metrics_long = metrics_df.T.reset_index().melt(id_vars='index', var_name='Métrica', value_name='Score')\n",
        "metrics_long = metrics_long.rename(columns={'index': 'Modelo'})\n",
        "\n",
        "plt.figure(figsize=(10,5))\n",
        "palette = {'Recall': '#FF5733', 'Precision': '#3498DB', 'F1-score': '#2ECC71'}\n",
        "sns.barplot(x='Modelo', y='Score', hue='Métrica', data=metrics_long, palette=palette)\n",
        "plt.title(\"Comparación de Modelos (Recall destacado)\")\n",
        "plt.ylabel(\"Score\")\n",
        "plt.ylim(0, 1)\n",
        "plt.xticks(rotation=45)\n",
        "plt.grid(axis='y')\n",
        "\n",
        "# Add annotation for recall bars\n",
        "for i, model in enumerate(metrics_df.columns):\n",
        "    recall = metrics_df.loc['Recall', model]\n",
        "    plt.text(i-0.25, recall+0.02, f\"{recall:.2f}\", color='#FF5733', fontweight='bold')\n",
        "\n",
        "plt.show()"
      ]
    },
    {
      "cell_type": "code",
      "execution_count": null,
      "id": "3298a304",
      "metadata": {
        "id": "3298a304",
        "outputId": "054c4019-d1fb-415f-ae0b-fcc768b995a0"
      },
      "outputs": [
        {
          "name": "stdout",
          "output_type": "stream",
          "text": [
            "Predicciones para datos desconocidos (0=Negativo, 1=Positivo):\n",
            "[0 0 0 0 0 0 0 0 0 0 0 1 0 0 0 0 0 0 0 0 0 0 0 0 0 0 0 0 0 0 0 0 0 0 0 0 0\n",
            " 0 0 0 0 0 0 0 0 0 1 0 0 0 0 0 0 0 0 0 0 0 0 0 0 0 0 0 0 0 0 1 0 0 1 0 0]\n"
          ]
        }
      ],
      "source": [
        "# 7. Predict on unknown data with best model (e.g., KNN)\n",
        "unknown_data = load_audio_data(unknown_path, label=None)\n",
        "X_unknown = np.array([d for d in unknown_data])  # Use all features\n",
        "X_unknown = scaler.transform(X_unknown)\n",
        "best_model = best_estimators[\"KNN\"]\n",
        "y_pred_unknown = best_model.predict(X_unknown)\n",
        "print(\"Predicciones para datos desconocidos (0=Negativo, 1=Positivo):\")\n",
        "print(y_pred_unknown)"
      ]
    }
  ],
  "metadata": {
    "kernelspec": {
      "display_name": "Python 3",
      "language": "python",
      "name": "python3"
    },
    "language_info": {
      "codemirror_mode": {
        "name": "ipython",
        "version": 3
      },
      "file_extension": ".py",
      "mimetype": "text/x-python",
      "name": "python",
      "nbconvert_exporter": "python",
      "pygments_lexer": "ipython3",
      "version": "3.13.1"
    },
    "colab": {
      "provenance": [],
      "include_colab_link": true
    }
  },
  "nbformat": 4,
  "nbformat_minor": 5
}