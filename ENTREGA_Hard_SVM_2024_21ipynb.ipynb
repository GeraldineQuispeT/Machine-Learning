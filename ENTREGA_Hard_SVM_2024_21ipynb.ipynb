{
  "nbformat": 4,
  "nbformat_minor": 0,
  "metadata": {
    "colab": {
      "provenance": [],
      "include_colab_link": true
    },
    "kernelspec": {
      "name": "python3",
      "display_name": "Python 3"
    },
    "language_info": {
      "name": "python"
    }
  },
  "cells": [
    {
      "cell_type": "markdown",
      "metadata": {
        "id": "view-in-github",
        "colab_type": "text"
      },
      "source": [
        "<a href=\"https://colab.research.google.com/github/GeraldineQuispeT/Machine-Learning/blob/main/ENTREGA_Hard_SVM_2024_21ipynb.ipynb\" target=\"_parent\"><img src=\"https://colab.research.google.com/assets/colab-badge.svg\" alt=\"Open In Colab\"/></a>"
      ]
    },
    {
      "cell_type": "markdown",
      "source": [
        " # Practice  Hard SVM.\n",
        " ----\n",
        "  \n",
        "  University : UTEC \\\\\n",
        "  Course       : Machine Learning \\\\\n",
        "  Professor    : Cristian López Del Alamo \\\\\n",
        "  Topic        : Hard SVM \\\\\n",
        "  Termina      : 12:45\n",
        "   \n",
        "\n",
        " ----\n",
        "\n",
        "Write the names and surnames of the members and the percentage of participation of each one in the development of the practice:\n",
        " - Integrante 1: (%)\n",
        " - Integrante 2: (%)\n",
        " - Integrante 3: (%)\n",
        " - Integrante 4: (%)\n",
        "\n",
        "\n",
        " ----\n",
        "\n",
        "\n",
        "  \n",
        "\n"
      ],
      "metadata": {
        "id": "h5URl9pFHUec"
      }
    },
    {
      "cell_type": "code",
      "source": [
        "# Loading libraries\n",
        "import numpy as np\n",
        "import matplotlib.pyplot as plt\n",
        "import pandas as pd\n",
        "import cvxopt\n",
        "import math\n",
        "from sklearn.model_selection import train_test_split\n",
        "from sklearn.metrics import confusion_matrix\n",
        "from sklearn import metrics"
      ],
      "metadata": {
        "id": "sit2AQ1GZDju"
      },
      "execution_count": 1,
      "outputs": []
    },
    {
      "cell_type": "markdown",
      "source": [
        "# Lagrange Multipliers\n",
        "\n",
        "$\\frac{\\partial f(x)}{ \\partial x} = λ \\frac{\\partial g(  x)}{ \\partial x}$\n",
        "\n",
        "----\n",
        "Find the values of  $λ_i$ for each training elements $X_i$.\n",
        "\n",
        "The  ***GetLambda*** function returns a vector that we will call  lambda, such that   $lambda[i]$ will be  $0$, if the element  $X[i]$ does not intersect with any of the lines   $XW^t + b >=1$ o $XW^t + b >=0$\n",
        "\n",
        "Note: X is a matrix, so $X_i$ will be a  $K$-dimensional vector that represent the  i-th  object or  $k$-dimensional point, and  $X_{ij}$ is  the  j-th  element of the  i-th objet.\n",
        "\n",
        "----\n",
        "\n",
        "\n",
        "- **Note: The code for finding the lambda values is provided to you.**"
      ],
      "metadata": {
        "id": "_-o70Lb1qRVv"
      }
    },
    {
      "cell_type": "code",
      "source": [
        "import numpy as np\n",
        "from cvxopt import matrix, solvers\n",
        "\n",
        "def GetLambda(X, y):\n",
        "    n, m = X.shape # n = número de muestras, m = número de características (dimensión)\n",
        "    y = y.astype(float)\n",
        "\n",
        "    # Kernel lineal multiplicado por las etiquetas (y_i * y_j * x_i^T x_j)\n",
        "    K = np.dot(X, X.T) * np.dot(y, y.T)\n",
        "    P = matrix(K)\n",
        "    q = matrix(-np.ones(n))\n",
        "    G = matrix(-np.eye(n)) # α_i ≥ 0 (restricción de no negatividad)\n",
        "    h = matrix(np.zeros(n))\n",
        "    A = matrix(y.reshape(1, -1)) # Restricción: sum(α_i * y_i) = 0\n",
        "    b = matrix(np.zeros(1))\n",
        "\n",
        "    # Resolver el problema cuadrático\n",
        "    sol = solvers.qp(P, q, G, h, A, b)\n",
        "    alpha = np.array(sol['x'])\n",
        "    return alpha\n",
        "\n",
        "#Ejemplo para utilizar esta función\n",
        "#lamda = GetLambda(X,Y)\n",
        "#sv = lamda > 1e-5\n",
        "#print(sv)"
      ],
      "metadata": {
        "id": "vI6Hn-6UUV1I"
      },
      "execution_count": 2,
      "outputs": []
    },
    {
      "cell_type": "markdown",
      "source": [
        "## 2 Calculation of the Weights W\n",
        "$W_j = \\sum_{i=0}^n \\lambda_iy_ix_{ij}$  \n",
        "\n",
        "----\n",
        "Where: $λ_i$ represent  $i-th$ lagrange multiplier, $W_j$ is the $j-th$ weight,   $x_{ij}$ denotes the value of feacture $(j)$ for the $(i)-th$ training objetc, and $y_i$ is the expected output (1 or -1) for the $i-th$ object.\n",
        "\n",
        "$W_j = \\sum_{i=0}^n \\lambda_iy_ix_{ij}$  \n",
        "Note that the summation only includes elements for which the Lagrange\n",
        "\n",
        "----\n",
        "\n",
        "multiplier $lamnda_i$ is nonzero.\n",
        "\n"
      ],
      "metadata": {
        "id": "Lbvs2lvNlmNa"
      }
    },
    {
      "cell_type": "code",
      "source": [
        "#Calcula el vector de pesos W para una SVM lineal\n",
        "# X: matriz de características (n muestras x m características)\n",
        "# Y: vector de etiquetas (n,)\n",
        "# lambda_list: vector de multiplicadores de Lagrange (n,)\n",
        "# tol: umbral para considerar lambda > 0 (vectores de soporte)\n",
        "# W: vector de pesos (m,)\n",
        "\n",
        "def Get_W(X,Y,lambda_list, tol=1e-5):\n",
        "    n, m = X.shape# n = número de muestras, m = dimensión\n",
        "    W = np.zeros(m)\n",
        "\n",
        "    for i in range(n):\n",
        "        if lambda_list[i] > tol:\n",
        "            W += lambda_list[i] * Y[i] * X[i]\n",
        "\n",
        "    return W\n"
      ],
      "metadata": {
        "id": "xJwm8DaClJ-f"
      },
      "execution_count": 3,
      "outputs": []
    },
    {
      "cell_type": "markdown",
      "source": [
        "## Finding the Bias (b)\n",
        "\n",
        "$XW^t + b = 0$\n",
        "\n",
        "$b = - \\frac{1}{n}∑_{i=0}^n X_iW^t$\n",
        "\n",
        "Where $X_i$ is a $k$-dimensional vector representing the $i$-th object, and $k$ is the number of features of the object.\n",
        "\n"
      ],
      "metadata": {
        "id": "wctPuU-jnU0Q"
      }
    },
    {
      "cell_type": "code",
      "source": [
        "# Calcula el bias b para una SVM lineal.\n",
        "# X: matriz de características (n muestras x m características)\n",
        "# W: vector de pesos (m,)\n",
        "# b: bias escalar\n",
        "\n",
        "def Get_b(X,W):\n",
        "    n = X.shape[0]\n",
        "    XW = np.dot(X, W)# Producto escalar XW para cada muestra\n",
        "    b = -np.sum(XW) / n\n",
        "    return b\n"
      ],
      "metadata": {
        "id": "IujB29jtnUl7"
      },
      "execution_count": 4,
      "outputs": []
    },
    {
      "cell_type": "markdown",
      "source": [
        "## Testing Stage\n",
        "\n",
        "----\n",
        "For this stage, one should only calculate :\n",
        "\n",
        "- $f(X_j) = X_jW^t + b$\n",
        "\n",
        "But since we have already calculated the values of the parameters $W$ and  $b$, then by substituting we have :\n",
        "\n",
        "- $f(X_j) = \\sum_{i=0}^n \\lambda_iy_i<X_{i},X_{j}> + b$\n",
        "\n",
        "Donde: $X_i$ is the i-th  training vector and  $X_j$   is the new vector that passes through the model for predicting the class (1 or -1)\n",
        "\n",
        "Finally, to determine which class the new vector $X_j$   belongs to, it is sufficient to check the sign of f(X_j).\n",
        "\n",
        "  - **If $f(X_j) >=0$ then $Y_j$ = 1 else $Y_j = -1$**\n",
        "  -----"
      ],
      "metadata": {
        "id": "k7L3GAtNoUo7"
      }
    },
    {
      "cell_type": "code",
      "source": [
        "# Predice la clase de un nuevo vector X usando el hiperplano de la SVM.\n",
        "# X: El nuevo vector de entrada (n-dimensional).\n",
        "# W: El vector de pesos (n-dimensional).\n",
        "# b: El sesgo calculado durante el entrenamiento.\n",
        "# La clase predicha (1 o -1) para el nuevo vector X.\n",
        "\n",
        "def Test(X, W, b):\n",
        "    f_X = np.dot(X, W) + b # Calculamos la función de decisión f(X)\n",
        "    if f_X >= 0: # Si f(X) >= 0, predice 1, de lo contrario predice -1\n",
        "        return 1\n",
        "    else:\n",
        "        return -1"
      ],
      "metadata": {
        "id": "froBqp3Mp9C5"
      },
      "execution_count": 5,
      "outputs": []
    },
    {
      "cell_type": "markdown",
      "source": [],
      "metadata": {
        "id": "jymUFe2TiM0G"
      }
    },
    {
      "cell_type": "markdown",
      "source": [
        "Database for Testing:\n",
        "[Download](https://docs.google.com/spreadsheets/d/15-E3kiLJ6bCyXuJvSmxYAp2QYMkPX2QlQ597fAsPYy8/edit#gid=0).\n",
        "\n",
        "----\n",
        "Download the database to your disk and use files.upload() to load it onto the drive. The code is provided.\n",
        "----\n",
        "\n",
        "\n",
        "- Split the dataset into 70% for training and 30% for testing.\n",
        "- Add a value of 1 for the first class and -1 for the second class.\n",
        "- In the testing stage, find the number of elements correctly classified and the number of elements incorrectly classified for each class\n",
        "\n",
        "- Create a [confusion matrix](https://scikit-learn.org/stable/modules/generated/sklearn.metrics.confusion_matrix.html) which will show us the efficiency of the method.\n",
        "\n",
        "- Do not forget to normalize the data.\n",
        "\n",
        "- Plot the lines that separate both classes.\n",
        "\n",
        "----\n"
      ],
      "metadata": {
        "id": "LslGSJAprlPm"
      }
    },
    {
      "cell_type": "code",
      "source": [
        "# PASO 1: Split the dataset into 70% for training and 30% for testing.\n",
        "import pandas as pd\n",
        "import numpy as np\n",
        "from google.colab import files\n",
        "\n",
        "filename = files.upload()\n",
        "name = list(filename.keys())[0]\n",
        "data = pd.read_csv(name)\n",
        "\n",
        "X = data[[\"sepal.length\",\"sepal.width\",\"petal.length\",\"petal.width\"]]\n",
        "Y = data[[\"variety\"]]\n",
        "print(X)\n",
        "\n",
        "# Splitting the dataset into training and testing\n",
        "\n",
        "from sklearn.model_selection import train_test_split\n",
        "X_train, X_test, Y_train, Y_test = train_test_split(X,Y , random_state=104,  test_size=0.30,    shuffle=True)"
      ],
      "metadata": {
        "id": "iwAZ6rT9Wq2R",
        "colab": {
          "base_uri": "https://localhost:8080/",
          "height": 316
        },
        "outputId": "e9755650-5c13-47e1-8418-f69a1f35ffeb"
      },
      "execution_count": 6,
      "outputs": [
        {
          "output_type": "display_data",
          "data": {
            "text/plain": [
              "<IPython.core.display.HTML object>"
            ],
            "text/html": [
              "\n",
              "     <input type=\"file\" id=\"files-250137a4-2270-4887-aaba-4c4d5205d73d\" name=\"files[]\" multiple disabled\n",
              "        style=\"border:none\" />\n",
              "     <output id=\"result-250137a4-2270-4887-aaba-4c4d5205d73d\">\n",
              "      Upload widget is only available when the cell has been executed in the\n",
              "      current browser session. Please rerun this cell to enable.\n",
              "      </output>\n",
              "      <script>// Copyright 2017 Google LLC\n",
              "//\n",
              "// Licensed under the Apache License, Version 2.0 (the \"License\");\n",
              "// you may not use this file except in compliance with the License.\n",
              "// You may obtain a copy of the License at\n",
              "//\n",
              "//      http://www.apache.org/licenses/LICENSE-2.0\n",
              "//\n",
              "// Unless required by applicable law or agreed to in writing, software\n",
              "// distributed under the License is distributed on an \"AS IS\" BASIS,\n",
              "// WITHOUT WARRANTIES OR CONDITIONS OF ANY KIND, either express or implied.\n",
              "// See the License for the specific language governing permissions and\n",
              "// limitations under the License.\n",
              "\n",
              "/**\n",
              " * @fileoverview Helpers for google.colab Python module.\n",
              " */\n",
              "(function(scope) {\n",
              "function span(text, styleAttributes = {}) {\n",
              "  const element = document.createElement('span');\n",
              "  element.textContent = text;\n",
              "  for (const key of Object.keys(styleAttributes)) {\n",
              "    element.style[key] = styleAttributes[key];\n",
              "  }\n",
              "  return element;\n",
              "}\n",
              "\n",
              "// Max number of bytes which will be uploaded at a time.\n",
              "const MAX_PAYLOAD_SIZE = 100 * 1024;\n",
              "\n",
              "function _uploadFiles(inputId, outputId) {\n",
              "  const steps = uploadFilesStep(inputId, outputId);\n",
              "  const outputElement = document.getElementById(outputId);\n",
              "  // Cache steps on the outputElement to make it available for the next call\n",
              "  // to uploadFilesContinue from Python.\n",
              "  outputElement.steps = steps;\n",
              "\n",
              "  return _uploadFilesContinue(outputId);\n",
              "}\n",
              "\n",
              "// This is roughly an async generator (not supported in the browser yet),\n",
              "// where there are multiple asynchronous steps and the Python side is going\n",
              "// to poll for completion of each step.\n",
              "// This uses a Promise to block the python side on completion of each step,\n",
              "// then passes the result of the previous step as the input to the next step.\n",
              "function _uploadFilesContinue(outputId) {\n",
              "  const outputElement = document.getElementById(outputId);\n",
              "  const steps = outputElement.steps;\n",
              "\n",
              "  const next = steps.next(outputElement.lastPromiseValue);\n",
              "  return Promise.resolve(next.value.promise).then((value) => {\n",
              "    // Cache the last promise value to make it available to the next\n",
              "    // step of the generator.\n",
              "    outputElement.lastPromiseValue = value;\n",
              "    return next.value.response;\n",
              "  });\n",
              "}\n",
              "\n",
              "/**\n",
              " * Generator function which is called between each async step of the upload\n",
              " * process.\n",
              " * @param {string} inputId Element ID of the input file picker element.\n",
              " * @param {string} outputId Element ID of the output display.\n",
              " * @return {!Iterable<!Object>} Iterable of next steps.\n",
              " */\n",
              "function* uploadFilesStep(inputId, outputId) {\n",
              "  const inputElement = document.getElementById(inputId);\n",
              "  inputElement.disabled = false;\n",
              "\n",
              "  const outputElement = document.getElementById(outputId);\n",
              "  outputElement.innerHTML = '';\n",
              "\n",
              "  const pickedPromise = new Promise((resolve) => {\n",
              "    inputElement.addEventListener('change', (e) => {\n",
              "      resolve(e.target.files);\n",
              "    });\n",
              "  });\n",
              "\n",
              "  const cancel = document.createElement('button');\n",
              "  inputElement.parentElement.appendChild(cancel);\n",
              "  cancel.textContent = 'Cancel upload';\n",
              "  const cancelPromise = new Promise((resolve) => {\n",
              "    cancel.onclick = () => {\n",
              "      resolve(null);\n",
              "    };\n",
              "  });\n",
              "\n",
              "  // Wait for the user to pick the files.\n",
              "  const files = yield {\n",
              "    promise: Promise.race([pickedPromise, cancelPromise]),\n",
              "    response: {\n",
              "      action: 'starting',\n",
              "    }\n",
              "  };\n",
              "\n",
              "  cancel.remove();\n",
              "\n",
              "  // Disable the input element since further picks are not allowed.\n",
              "  inputElement.disabled = true;\n",
              "\n",
              "  if (!files) {\n",
              "    return {\n",
              "      response: {\n",
              "        action: 'complete',\n",
              "      }\n",
              "    };\n",
              "  }\n",
              "\n",
              "  for (const file of files) {\n",
              "    const li = document.createElement('li');\n",
              "    li.append(span(file.name, {fontWeight: 'bold'}));\n",
              "    li.append(span(\n",
              "        `(${file.type || 'n/a'}) - ${file.size} bytes, ` +\n",
              "        `last modified: ${\n",
              "            file.lastModifiedDate ? file.lastModifiedDate.toLocaleDateString() :\n",
              "                                    'n/a'} - `));\n",
              "    const percent = span('0% done');\n",
              "    li.appendChild(percent);\n",
              "\n",
              "    outputElement.appendChild(li);\n",
              "\n",
              "    const fileDataPromise = new Promise((resolve) => {\n",
              "      const reader = new FileReader();\n",
              "      reader.onload = (e) => {\n",
              "        resolve(e.target.result);\n",
              "      };\n",
              "      reader.readAsArrayBuffer(file);\n",
              "    });\n",
              "    // Wait for the data to be ready.\n",
              "    let fileData = yield {\n",
              "      promise: fileDataPromise,\n",
              "      response: {\n",
              "        action: 'continue',\n",
              "      }\n",
              "    };\n",
              "\n",
              "    // Use a chunked sending to avoid message size limits. See b/62115660.\n",
              "    let position = 0;\n",
              "    do {\n",
              "      const length = Math.min(fileData.byteLength - position, MAX_PAYLOAD_SIZE);\n",
              "      const chunk = new Uint8Array(fileData, position, length);\n",
              "      position += length;\n",
              "\n",
              "      const base64 = btoa(String.fromCharCode.apply(null, chunk));\n",
              "      yield {\n",
              "        response: {\n",
              "          action: 'append',\n",
              "          file: file.name,\n",
              "          data: base64,\n",
              "        },\n",
              "      };\n",
              "\n",
              "      let percentDone = fileData.byteLength === 0 ?\n",
              "          100 :\n",
              "          Math.round((position / fileData.byteLength) * 100);\n",
              "      percent.textContent = `${percentDone}% done`;\n",
              "\n",
              "    } while (position < fileData.byteLength);\n",
              "  }\n",
              "\n",
              "  // All done.\n",
              "  yield {\n",
              "    response: {\n",
              "      action: 'complete',\n",
              "    }\n",
              "  };\n",
              "}\n",
              "\n",
              "scope.google = scope.google || {};\n",
              "scope.google.colab = scope.google.colab || {};\n",
              "scope.google.colab._files = {\n",
              "  _uploadFiles,\n",
              "  _uploadFilesContinue,\n",
              "};\n",
              "})(self);\n",
              "</script> "
            ]
          },
          "metadata": {}
        },
        {
          "output_type": "stream",
          "name": "stdout",
          "text": [
            "Saving DataSet_Iris_2_Clases.csv - Hoja 1.csv to DataSet_Iris_2_Clases.csv - Hoja 1 (1).csv\n",
            "    sepal.length  sepal.width  petal.length  petal.width\n",
            "0            5.1          3.5           1.4          0.2\n",
            "1            4.9          3.0           1.4          0.2\n",
            "2            4.7          3.2           1.3          0.2\n",
            "3            4.6          3.1           1.5          0.2\n",
            "4            5.0          3.6           1.4          0.2\n",
            "..           ...          ...           ...          ...\n",
            "95           5.7          3.0           4.2          1.2\n",
            "96           5.7          2.9           4.2          1.3\n",
            "97           6.2          2.9           4.3          1.3\n",
            "98           5.1          2.5           3.0          1.1\n",
            "99           5.7          2.8           4.1          1.3\n",
            "\n",
            "[100 rows x 4 columns]\n"
          ]
        }
      ]
    },
    {
      "cell_type": "code",
      "source": [
        "# PASO 2: Add a value of 1 for the first class and -1 for the second class. (Ya estan clasificados como +1 y -1)\n",
        "print(\"Y_train valores:\", Y_train.value_counts())\n",
        "print(\"Y_test valores:\", Y_test.value_counts())"
      ],
      "metadata": {
        "colab": {
          "base_uri": "https://localhost:8080/"
        },
        "id": "9EjUGSejooh7",
        "outputId": "6c4052da-c9d3-470c-a57b-22a3a2a7259b"
      },
      "execution_count": 9,
      "outputs": [
        {
          "output_type": "stream",
          "name": "stdout",
          "text": [
            "Y_train valores: variety\n",
            "-1         35\n",
            " 1         35\n",
            "Name: count, dtype: int64\n",
            "Y_test valores: variety\n",
            "-1         15\n",
            " 1         15\n",
            "Name: count, dtype: int64\n"
          ]
        }
      ]
    },
    {
      "cell_type": "code",
      "source": [
        "# PASO 3: Normalizar la data\n",
        "from sklearn.preprocessing import StandardScaler\n",
        "\n",
        "scaler = StandardScaler()\n",
        "X_train_scaled = scaler.fit_transform(X_train)\n",
        "X_test_scaled = scaler.transform(X_test)\n",
        "\n",
        "X_train_scaled = pd.DataFrame(X_train_scaled, columns=X_train.columns)\n",
        "X_test_scaled = pd.DataFrame(X_test_scaled, columns=X_test.columns)"
      ],
      "metadata": {
        "collapsed": true,
        "id": "83gqqm9Vnvvj"
      },
      "execution_count": 10,
      "outputs": []
    },
    {
      "cell_type": "code",
      "source": [
        "# PASO 4: Entrenar y testear con la data normalizada\n",
        "\n",
        "lambda_list = GetLambda(X_train_scaled.values, Y_train.values)\n",
        "W =  Get_W(X_train_scaled.values, Y_train.values, lambda_list)\n",
        "b =  Get_b(X_train_scaled.values, W)\n",
        "\n",
        "print(\"Calculated W:\", W)\n",
        "print(\"Calculated b:\", b)\n",
        "\n",
        "# Calcular los valores predichos para X_test\n",
        "Y_pred  = np.sign([Test(x, W, b) for x in X_test_scaled.values])"
      ],
      "metadata": {
        "colab": {
          "base_uri": "https://localhost:8080/"
        },
        "id": "GXfu82NCo5d_",
        "outputId": "7ae4e59b-f2cd-4851-ac11-10b983880b1c"
      },
      "execution_count": 11,
      "outputs": [
        {
          "output_type": "stream",
          "name": "stdout",
          "text": [
            "     pcost       dcost       gap    pres   dres\n",
            " 0: -2.1816e+00 -3.6160e+00  1e+02  1e+01  1e+00\n",
            " 1: -5.2604e-01 -1.3391e+00  1e+01  8e-01  1e-01\n",
            " 2: -1.1901e-01 -8.9195e-01  8e-01  2e-16  6e-16\n",
            " 3: -3.4787e-01 -5.7000e-01  2e-01  1e-16  5e-16\n",
            " 4: -4.8540e-01 -5.3575e-01  5e-02  1e-16  4e-16\n",
            " 5: -5.1148e-01 -5.3353e-01  2e-02  2e-16  5e-16\n",
            " 6: -5.2747e-01 -5.2909e-01  2e-03  2e-16  5e-16\n",
            " 7: -5.2876e-01 -5.2881e-01  5e-05  1e-16  4e-16\n",
            " 8: -5.2880e-01 -5.2880e-01  5e-07  3e-16  5e-16\n",
            "Optimal solution found.\n",
            "Calculated W: [-0.32641023  0.27152093 -0.7145777  -0.60556615]\n",
            "Calculated b: -1.3005469717037549e-16\n"
          ]
        }
      ]
    },
    {
      "cell_type": "code",
      "source": [
        "# PASO 5: find the number of elements correctly classified and the number of elements incorrectly classified for each class\n",
        "class_correct = {}\n",
        "class_incorrect = {}\n",
        "Y_test_reset = Y_test.reset_index(drop=True)\n",
        "\n",
        "for etiqueta_original in [1, -1]:\n",
        "    indices = Y_test_reset[Y_test_reset['variety'] == etiqueta_original].index\n",
        "    predicted_labels = Y_pred[indices]\n",
        "    true_labels = Y_test_reset.loc[indices, 'variety'].values\n",
        "\n",
        "    correct = np.sum(predicted_labels == true_labels)\n",
        "    incorrect = np.sum(predicted_labels != true_labels)\n",
        "\n",
        "    class_correct[etiqueta_original] = correct\n",
        "    class_incorrect[etiqueta_original] = incorrect\n",
        "\n",
        "print(\"Clasificacion correcta por clase:\", class_correct)\n",
        "print(\"Clasificacion incorrecta por clase:\", class_incorrect)"
      ],
      "metadata": {
        "colab": {
          "base_uri": "https://localhost:8080/"
        },
        "id": "FzRvPHfg0cwr",
        "outputId": "39176c6b-5c9a-4f3d-956f-b5b2a731898d"
      },
      "execution_count": 15,
      "outputs": [
        {
          "output_type": "stream",
          "name": "stdout",
          "text": [
            "Clasificacion correcta por clase: {1: np.int64(15), -1: np.int64(15)}\n",
            "Clasificacion incorrecta por clase: {1: np.int64(0), -1: np.int64(0)}\n"
          ]
        }
      ]
    },
    {
      "cell_type": "code",
      "source": [
        "## PASO 6: Matriz de confusion\n",
        "\n",
        "confusion_matrix = metrics.confusion_matrix(Y_test, Y_pred)\n",
        "cm_display = metrics.ConfusionMatrixDisplay(confusion_matrix = confusion_matrix, display_labels = [1, -1])\n",
        "cm_display.plot()\n",
        "plt.show()"
      ],
      "metadata": {
        "id": "8Nmw8Kpxvc-r",
        "colab": {
          "base_uri": "https://localhost:8080/",
          "height": 449
        },
        "outputId": "68cf35ec-8c35-4cf6-b49e-dcd322d07bc9"
      },
      "execution_count": 18,
      "outputs": [
        {
          "output_type": "display_data",
          "data": {
            "text/plain": [
              "<Figure size 640x480 with 2 Axes>"
            ],
            "image/png": "[encoded data removed]"
          },
          "metadata": {}
        }
      ]
    },
    {
      "cell_type": "markdown",
      "source": [
        "----\n",
        "\n",
        "- Subir el link de su colab a canvas\n",
        "- Disfruten aprendiendo. La única forma de aprender es haciendo.\n",
        "- Buena Suerte.\n",
        "----"
      ],
      "metadata": {
        "id": "dGQYlGzEX8u6"
      }
    }
  ]
}